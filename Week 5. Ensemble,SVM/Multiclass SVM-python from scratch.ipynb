{
 "cells": [
  {
   "cell_type": "markdown",
   "id": "9ad88f3e",
   "metadata": {},
   "source": [
    "# Multiclass SVM 구현"
   ]
  },
  {
   "cell_type": "code",
   "execution_count": 1,
   "id": "1ee53277",
   "metadata": {},
   "outputs": [
    {
     "name": "stdout",
     "output_type": "stream",
     "text": [
      "0         setosa\n",
      "1         setosa\n",
      "2         setosa\n",
      "3         setosa\n",
      "4         setosa\n",
      "         ...    \n",
      "145    virginica\n",
      "146    virginica\n",
      "147    virginica\n",
      "148    virginica\n",
      "149    virginica\n",
      "Name: species, Length: 150, dtype: object\n"
     ]
    }
   ],
   "source": [
    "import numpy as np\n",
    "import pandas as pd\n",
    "import matplotlib.pyplot as plt\n",
    "import seaborn as sns\n",
    "from sklearn.svm import SVC\n",
    "from sklearn.model_selection import train_test_split\n",
    "from sklearn.pipeline import Pipeline\n",
    "from sklearn.preprocessing import StandardScaler\n",
    "from sklearn.metrics import accuracy_score\n",
    "\n",
    "#IRIS 데이터 로드\n",
    "iris =  sns.load_dataset('iris') \n",
    "X= iris.iloc[:,:4] #학습할데이터\n",
    "y = iris.iloc[:,-1] #타겟\n",
    "print(y)"
   ]
  },
  {
   "cell_type": "code",
   "execution_count": 2,
   "id": "8fd1feba",
   "metadata": {},
   "outputs": [
    {
     "data": {
      "text/html": [
       "<div>\n",
       "<style scoped>\n",
       "    .dataframe tbody tr th:only-of-type {\n",
       "        vertical-align: middle;\n",
       "    }\n",
       "\n",
       "    .dataframe tbody tr th {\n",
       "        vertical-align: top;\n",
       "    }\n",
       "\n",
       "    .dataframe thead th {\n",
       "        text-align: right;\n",
       "    }\n",
       "</style>\n",
       "<table border=\"1\" class=\"dataframe\">\n",
       "  <thead>\n",
       "    <tr style=\"text-align: right;\">\n",
       "      <th></th>\n",
       "      <th>sepal_length</th>\n",
       "      <th>sepal_width</th>\n",
       "      <th>petal_length</th>\n",
       "      <th>petal_width</th>\n",
       "    </tr>\n",
       "  </thead>\n",
       "  <tbody>\n",
       "    <tr>\n",
       "      <th>0</th>\n",
       "      <td>5.1</td>\n",
       "      <td>3.5</td>\n",
       "      <td>1.4</td>\n",
       "      <td>0.2</td>\n",
       "    </tr>\n",
       "    <tr>\n",
       "      <th>1</th>\n",
       "      <td>4.9</td>\n",
       "      <td>3.0</td>\n",
       "      <td>1.4</td>\n",
       "      <td>0.2</td>\n",
       "    </tr>\n",
       "    <tr>\n",
       "      <th>2</th>\n",
       "      <td>4.7</td>\n",
       "      <td>3.2</td>\n",
       "      <td>1.3</td>\n",
       "      <td>0.2</td>\n",
       "    </tr>\n",
       "    <tr>\n",
       "      <th>3</th>\n",
       "      <td>4.6</td>\n",
       "      <td>3.1</td>\n",
       "      <td>1.5</td>\n",
       "      <td>0.2</td>\n",
       "    </tr>\n",
       "    <tr>\n",
       "      <th>4</th>\n",
       "      <td>5.0</td>\n",
       "      <td>3.6</td>\n",
       "      <td>1.4</td>\n",
       "      <td>0.2</td>\n",
       "    </tr>\n",
       "  </tbody>\n",
       "</table>\n",
       "</div>"
      ],
      "text/plain": [
       "   sepal_length  sepal_width  petal_length  petal_width\n",
       "0           5.1          3.5           1.4          0.2\n",
       "1           4.9          3.0           1.4          0.2\n",
       "2           4.7          3.2           1.3          0.2\n",
       "3           4.6          3.1           1.5          0.2\n",
       "4           5.0          3.6           1.4          0.2"
      ]
     },
     "execution_count": 2,
     "metadata": {},
     "output_type": "execute_result"
    }
   ],
   "source": [
    "X.head()"
   ]
  },
  {
   "cell_type": "code",
   "execution_count": 3,
   "id": "57c67bc8",
   "metadata": {},
   "outputs": [],
   "source": [
    "X_train, X_test, y_train, y_test = train_test_split(X, y, test_size=0.2, random_state=48)"
   ]
  },
  {
   "cell_type": "code",
   "execution_count": 4,
   "id": "88a4203d",
   "metadata": {},
   "outputs": [],
   "source": [
    "def standardization(train, test):\n",
    "    scaler = StandardScaler()\n",
    "    train = scaler.fit_transform(train)\n",
    "    test = scaler.transform(test)\n",
    "    return train, test\n",
    "\n",
    "X_train, X_test = standardization(X_train, X_test)"
   ]
  },
  {
   "cell_type": "code",
   "execution_count": 6,
   "id": "a035592e",
   "metadata": {},
   "outputs": [],
   "source": [
    "plt.rc('font', size=14)\n",
    "plt.rc('axes', labelsize=14, titlesize=14)\n",
    "plt.rc('legend', fontsize=14)\n",
    "plt.rc('xtick', labelsize=10)\n",
    "plt.rc('ytick', labelsize=10)"
   ]
  },
  {
   "cell_type": "code",
   "execution_count": 39,
   "id": "6d6292f3",
   "metadata": {},
   "outputs": [],
   "source": [
    "class SVM :\n",
    "    def __init__(self, learning_rate=0.001, lambda_param=0.01, n_iters=1000):\n",
    "        self.lr = learning_rate \n",
    "        self.lambda_param = lambda_param\n",
    "        self.n_iters = n_iters\n",
    "        self.w = None\n",
    "        self.b = None\n",
    "    \n",
    "    def fit(self, X, y):\n",
    "        # Convert the labels to the binary representaion (SVM is binary classifier)\n",
    "        labels = np.unique(y)\n",
    "        self.labels = labels\n",
    "        y_binary = np.zeros((len(y), len(labels)))\n",
    "        for i, label in enumerate(labels):\n",
    "            y_binary[:,i] = (y==label).astype(int) \n",
    "            \n",
    "        n_samples, n_features = X.shape\n",
    "        \n",
    "        # init weights, biases\n",
    "        self.w = np.zeros((n_features, len(labels )))\n",
    "        self.b = np.zeros(len(labels))\n",
    "        \n",
    "        # Perform gradient descent\n",
    "        for _ in range(self.n_iters):\n",
    "            for i in range(n_samples): \n",
    "                for j in range(len(labels)):\n",
    "                    condition = y_binary[i,j]*(np.dot(X[i], self.w[:,j]) - self.b[j])\n",
    "                    if condition :\n",
    "                        self.w[:,j] -= self.lr* self.lambda_param * 2 * self.w[:,j]\n",
    "                    else :\n",
    "                        self.w[:,j] -= self.lr *(2*self.lambda_param*self.w[:,j] - y_binary[i,j]*X[i])\n",
    "                        self.b -= self.lr * y_binary[i,j]\n",
    "            \n",
    "    def predict(self, X):\n",
    "        approx = np.dot(X, self.w) - self.b\n",
    "        return self.labels[np.argmax(approx, axis=1)]"
   ]
  },
  {
   "cell_type": "code",
   "execution_count": 40,
   "id": "10287e9c",
   "metadata": {},
   "outputs": [],
   "source": [
    "svm = SVM(lambda_param = 0.01, n_iters = 1000, learning_rate=0.01)\n",
    "svm.fit(X_train, y_train)"
   ]
  },
  {
   "cell_type": "code",
   "execution_count": 41,
   "id": "62d065e6",
   "metadata": {},
   "outputs": [
    {
     "name": "stdout",
     "output_type": "stream",
     "text": [
      "Accuracy: 0.63\n"
     ]
    }
   ],
   "source": [
    "# Make predictions on the test data\n",
    "y_pred = svm.predict(X_test)\n",
    "\n",
    "# Compute the accuracy of the model\n",
    "accuracy = np.mean(y_pred == y_test)\n",
    "print(f\"Accuracy: {accuracy:.2f}\")"
   ]
  },
  {
   "cell_type": "code",
   "execution_count": 8,
   "id": "427a9f5b",
   "metadata": {},
   "outputs": [
    {
     "data": {
      "text/plain": [
       "setosa        50\n",
       "versicolor    50\n",
       "virginica     50\n",
       "Name: species, dtype: int64"
      ]
     },
     "execution_count": 8,
     "metadata": {},
     "output_type": "execute_result"
    }
   ],
   "source": [
    "y.value_counts()"
   ]
  },
  {
   "cell_type": "markdown",
   "id": "87425f04",
   "metadata": {},
   "source": [
    "### sklearn svm module과 비교하기"
   ]
  },
  {
   "cell_type": "code",
   "execution_count": 10,
   "id": "0a60aab8",
   "metadata": {},
   "outputs": [],
   "source": [
    "rbf = SVC(kernel='rbf', gamma=0.5,C=0.1).fit(X_train, y_train)\n",
    "poly = SVC(kernel='poly', degree=3, C=1).fit(X_train, y_train)\n"
   ]
  },
  {
   "cell_type": "code",
   "execution_count": 11,
   "id": "fea296dd",
   "metadata": {},
   "outputs": [],
   "source": [
    "rbf_pred = rbf.predict(X_test)\n",
    "poly_pred = poly.predict(X_test)"
   ]
  },
  {
   "cell_type": "code",
   "execution_count": 15,
   "id": "f3303c1a",
   "metadata": {},
   "outputs": [
    {
     "name": "stdout",
     "output_type": "stream",
     "text": [
      "RBF Kernel Accuracy : 86.67%\n",
      "RBF Kernel F1 Score : 86.79%\n"
     ]
    }
   ],
   "source": [
    "from sklearn.metrics import accuracy_score\n",
    "from sklearn.metrics import f1_score\n",
    "\n",
    "rbf_accuracy = accuracy_score(y_test, rbf_pred)\n",
    "rbf_f1 = f1_score(y_test, rbf_pred, average='weighted')\n",
    "\n",
    "print('RBF Kernel Accuracy : {:.2f}%'.format(rbf_accuracy*100))\n",
    "print('RBF Kernel F1 Score : {:.2f}%'.format(rbf_f1*100))"
   ]
  },
  {
   "cell_type": "code",
   "execution_count": 16,
   "id": "e7f51a08",
   "metadata": {},
   "outputs": [
    {
     "name": "stdout",
     "output_type": "stream",
     "text": [
      "Polynominal Kernel Accuracy : 86.67%\n",
      "Polynominal Kernel F1 Score : 86.03%\n"
     ]
    }
   ],
   "source": [
    "poly_accuracy = accuracy_score(y_test, poly_pred)\n",
    "poly_f1 = f1_score(y_test,poly_pred, average='weighted')\n",
    "\n",
    "print('Polynomial Kernel Accuracy : {:.2f}%'.format(poly_accuracy*100))\n",
    "print('Polynomial Kernel F1 Score : {:.2f}%'.format(poly_f1*100))"
   ]
  },
  {
   "cell_type": "markdown",
   "id": "e8f76e4b",
   "metadata": {},
   "source": [
    "- sklearn에서는 rbf 커널, polynomial 커널 등을 활용하여 직접 구현한 코드에 비해 Accuracy가 더 높은 것을 확인할 수 있었다."
   ]
  },
  {
   "cell_type": "code",
   "execution_count": null,
   "id": "e32edb3b",
   "metadata": {},
   "outputs": [],
   "source": []
  }
 ],
 "metadata": {
  "kernelspec": {
   "display_name": "Python 3 (ipykernel)",
   "language": "python",
   "name": "python3"
  },
  "language_info": {
   "codemirror_mode": {
    "name": "ipython",
    "version": 3
   },
   "file_extension": ".py",
   "mimetype": "text/x-python",
   "name": "python",
   "nbconvert_exporter": "python",
   "pygments_lexer": "ipython3",
   "version": "3.9.12"
  }
 },
 "nbformat": 4,
 "nbformat_minor": 5
}
